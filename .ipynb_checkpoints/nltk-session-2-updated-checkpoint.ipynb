{
 "cells": [
  {
   "cell_type": "markdown",
   "metadata": {},
   "source": [
    "<br>\n",
    "<img style=\"float:left\" src=\"http://ipython.org/_static/IPy_header.png\" />\n",
    "<br>"
   ]
  },
  {
   "cell_type": "markdown",
   "metadata": {},
   "source": [
    "# Session 2: Working with a corpus of Malcolm Fraser's speeches"
   ]
  },
  {
   "cell_type": "code",
   "execution_count": 1,
   "metadata": {
    "collapsed": false
   },
   "outputs": [],
   "source": [
    "import sys\n",
    "import nltk\n",
    "from IPython.display import display, clear_output\n",
    "sys.path.append(\"/usr/lib/python2.7/site-packages/\")\n",
    "%matplotlib inline"
   ]
  },
  {
   "cell_type": "markdown",
   "metadata": {},
   "source": [
    "**Welcome back!**\n",
    "\n",
    "So, what did we learn yesterday? A brief recap:\n",
    "\n",
    "* The **IPython** Notebook\n",
    "* **Python**: syntax, variables, functions, etc.\n",
    "\n",
    "Today's focus will be on **developing more advanced NLTK skills** and using these skills to **investigate the Fraser Speeches Corpus**. In the final session, we will discuss **how to use what you have learned here in your own research**.\n",
    "\n",
    "*Any questions or anything before we dive in?*"
   ]
  },
  {
   "cell_type": "markdown",
   "metadata": {},
   "source": [
    "## Malcolm Fraser and his speeches"
   ]
  },
  {
   "cell_type": "markdown",
   "metadata": {},
   "source": [
    "So, for much of the next two sessions, we are going to be working with a corpus of speeches made by Malcolm Fraser. "
   ]
  },
  {
   "cell_type": "code",
   "execution_count": 2,
   "metadata": {
    "collapsed": false
   },
   "outputs": [],
   "source": [
    "# this code allows us to display images and webpages in our notebook\n",
    "from IPython.display import display\n",
    "from IPython.display import display_pretty, display_html, display_jpeg, display_png, display_svg\n",
    "from IPython.display import Image\n",
    "from IPython.display import HTML\n",
    "import nltk"
   ]
  },
  {
   "cell_type": "code",
   "execution_count": 3,
   "metadata": {
    "collapsed": false
   },
   "outputs": [
    {
     "data": {
      "text/html": [
       "<img src=\"http://www.unimelb.edu.au/malcolmfraser/photographs/family/105~36fam6p9.jpg\"/>"
      ],
      "text/plain": [
       "<IPython.core.display.Image object>"
      ]
     },
     "execution_count": 3,
     "metadata": {},
     "output_type": "execute_result"
    }
   ],
   "source": [
    "Image(url='http://www.unimelb.edu.au/malcolmfraser/photographs/family/105~36fam6p9.jpg')"
   ]
  },
  {
   "cell_type": "markdown",
   "metadata": {},
   "source": [
    "Because our project here is *corpus driven*, we don't necessarily need to know about Malcolm Fraser and his speeches in order to analyse the data: we may be happy to let things emerge from the data themselves. Even so, it's nice to know a bit about him.\n",
    "\n",
    "Malcolm Fraser was a member of Australian parliament between 1955 and 1983, holding the seat of Wannon in western Victoria. He held a number of ministries, including Education and Science, and Defence. \n",
    "\n",
    "He became leader of the Liberal Party in March 1975 and Prime Minister of Australia in December 1975, following the dismissal of the Whitlam government in November 1975.\n",
    "\n",
    "He retired from parliament following the defeat of the Liberal party at the 1983 election and in 2009 resigned from the Liberal party after becoming increasingly critical of some of its policies. He died on 20 March, 2015."
   ]
  },
  {
   "cell_type": "code",
   "execution_count": 4,
   "metadata": {
    "collapsed": false
   },
   "outputs": [
    {
     "data": {
      "text/html": [
       "<iframe src=http://en.wikipedia.org/wiki/Malcolm_Fraser width=700 height=350></iframe>"
      ],
      "text/plain": [
       "<IPython.core.display.HTML object>"
      ]
     },
     "execution_count": 4,
     "metadata": {},
     "output_type": "execute_result"
    }
   ],
   "source": [
    "HTML('<iframe src=http://en.wikipedia.org/wiki/Malcolm_Fraser width=700 height=350></iframe>')"
   ]
  },
  {
   "cell_type": "markdown",
   "metadata": {},
   "source": [
    "In 2004, Malcolm Fraser made the University of Melbourne the official custodian of his personal papers. The collection consists of a large number of photographs, speeches and personal papers, including Neville Fraser's WWI diaries and materials relating to CARE Australia, which Mr Fraser helped to found in 1987. "
   ]
  },
  {
   "cell_type": "code",
   "execution_count": 5,
   "metadata": {
    "collapsed": false
   },
   "outputs": [
    {
     "data": {
      "text/html": [
       "<iframe src=http://www.unimelb.edu.au/malcolmfraser/ width=700 height=350></iframe>"
      ],
      "text/plain": [
       "<IPython.core.display.HTML object>"
      ]
     },
     "execution_count": 5,
     "metadata": {},
     "output_type": "execute_result"
    }
   ],
   "source": [
    "HTML('<iframe src=http://www.unimelb.edu.au/malcolmfraser/ width=700 height=350></iframe>')"
   ]
  },
  {
   "cell_type": "markdown",
   "metadata": {},
   "source": [
    "Between 1954 until 1983, Malcolm Fraser regularly made a talk to his electorate that was broadcast on Sunday evening on local radio.  \n",
    "\n",
    "The speeches were transcribed years ago. Optical Character Recognition (OCR) was used to digitise the transcripts. This means that the texts are not of perfect quality. \n",
    "\n",
    "Some have been manually corrected, which has removed extraneous characters and mangled words, but even so there are still some quirks in the formatting. \n",
    "\n",
    "For much of this session, we are going to manipulate the corpus data, and use the data to restructure the corpus. "
   ]
  },
  {
   "cell_type": "markdown",
   "metadata": {},
   "source": [
    "## Cleaning the corpus"
   ]
  },
  {
   "cell_type": "markdown",
   "metadata": {},
   "source": [
    "A common part of corpus building is corpus cleaning. Reasons for cleaning include:\n",
    "\n",
    "1. Not break the code with unexpected input\n",
    "2. Ensure that searches match as many examples as possible\n",
    "3. Increasing readability, the accuracy of taggers, stemmers, parsers, etc.\n",
    "\n",
    "The level of kind of cleaning depends on your data and the aims of your project. In the case of very clean data (lucky you!), there may be little that needs to be done. With messy data, you may need to go as far as to correct variant spellings (online conversation, very old books)."
   ]
  },
  {
   "cell_type": "markdown",
   "metadata": {},
   "source": [
    "### Discussion"
   ]
  },
  {
   "cell_type": "markdown",
   "metadata": {},
   "source": [
    "*What are the characteristics of clean and messy data? Any personal experiences? Discuss with your neighbours.* \n",
    "\n",
    "It will be important to bear these characteristics in mind once you start building your own datasets and corpora. "
   ]
  },
  {
   "cell_type": "markdown",
   "metadata": {},
   "source": [
    "## Exploring the corpus"
   ]
  },
  {
   "cell_type": "markdown",
   "metadata": {},
   "source": [
    "First of all, let's load in our text.\n",
    "\n",
    "Via file management, open and inspect one file in *corpora/UMA_Fraser_Radio_Talks*. What do you see? Are there any potential problems?\n",
    "\n",
    "We can also look at file contents within the IPython Notebook itself:"
   ]
  },
  {
   "cell_type": "code",
   "execution_count": 6,
   "metadata": {
    "collapsed": false
   },
   "outputs": [],
   "source": [
    "import os"
   ]
  },
  {
   "cell_type": "code",
   "execution_count": 7,
   "metadata": {
    "collapsed": false
   },
   "outputs": [],
   "source": [
    "# import tokenizers\n",
    "from nltk import word_tokenize\n",
    "from nltk.text import Text"
   ]
  },
  {
   "cell_type": "code",
   "execution_count": 8,
   "metadata": {
    "collapsed": false
   },
   "outputs": [
    {
     "name": "stdout",
     "output_type": "stream",
     "text": [
      "['UDS2013680-1-full.txt', 'UDS2013680-10-full.txt', 'UDS2013680-100-full.txt']\n"
     ]
    }
   ],
   "source": [
    "# make a list of files in the directory 'UMA_Fraser_Radio_Talks'\n",
    "files = os.listdir('../UMA_Fraser_Radio_Talks')\n",
    "print files[:3]\n"
   ]
  },
  {
   "cell_type": "markdown",
   "metadata": {},
   "source": [
    "Actually, since we'll be referring to this path quite a bit, let's make it into a variable. This makes our code easier to use on other projects (and saves typing)"
   ]
  },
  {
   "cell_type": "code",
   "execution_count": 9,
   "metadata": {
    "collapsed": false
   },
   "outputs": [],
   "source": [
    "corpus_path = '../UMA_Fraser_Radio_Talks'"
   ]
  },
  {
   "cell_type": "markdown",
   "metadata": {},
   "source": [
    "We can now tell Python to get the contents of a file in the file list and print it:"
   ]
  },
  {
   "cell_type": "code",
   "execution_count": 10,
   "metadata": {
    "collapsed": false
   },
   "outputs": [
    {
     "name": "stdout",
     "output_type": "stream",
     "text": [
      "<!--start metadata-->\r\n",
      "Title: Ministry of Defence, Vietnam\r\n",
      "Description: Radio talk\r\n",
      "Date: 12/11/1969\r\n",
      "Collection: John Malcolm Fraser, 2007.0023\r\n",
      "Collection URI: http://gallery.its.unimelb.edu.au/imu/imu.php?request=load&irn=115190&ecatalogue=on&view=details\r\n",
      "Format: Uncorrected OCR text\r\n",
      "<!--end metadata-->\r\n",
      "\r\n",
      "\r\n",
      "\r\n",
      "                        I am looking forward to my new task as Minister for Defence, although\r\n",
      "                        it is with regret that I relinquish my post as Minister for Education \r\n",
      "                        and Science.\r\n",
      "                        I was associated with my old portfolio at a time when great changes \r\n",
      "                        were taking place in education.\r\n",
      "                        These changes were occurring at a time of unprecedented public \r\n",
      "                        interest and concern for education, at a time of increasing student \r\n",
      "                        numbers and rising aspirations.\r\n",
      "                        I was glad to have played a part in the task that continues to face \r\n",
      "                        those responsible for providing more and better education.\r\n",
      "                        I now look to the task of administering the country's defences.\r\n",
      "                        If the Government did not make sensible and proper decisions in this \r\n",
      "                        vital area of our national affairs, our future could be in jeopardy. \r\n",
      "                        I think we all recognise the need for strong and adequate defence\r\n",
      "                        forces and for proper arrangements with allies, for co-operation with \r\n",
      "                        like-minded countries.\r\n",
      "                        We are entering a new era with the British withdrawal proceeding. It \r\n",
      "                        will not be an easy portfolio to administer, with responsibilities \r\n",
      "                        spreading over three Service departments. My Department also has \r\n",
      "                        particularly close links with the Department of Supply.\r\n",
      "                        I welcome the opportunity to serve Australia in John Gorton's \r\n",
      "                        Government in this vitally important portfolio.\r\n",
      "                        The Ministry gained in vigour, experience and youth as a result of \r\n",
      "                        the changes announced by the Prime Minister during the week.\r\n",
      "                        The appointment of the seven new Ministers will mean the introduction \r\n",
      "                        of new talents into the task of running the country.\r\n",
      "                        There are five new Liberal Ministers--Mr. Andrew Peacock (Vic.), Mr. \r\n",
      "                        Don Chipp (Vic.), Mr. Tom Hughes (N.S.W.), Mr. Jim Killen (Qld.) and \r\n",
      "                        senator Bob Cotton (N.S.W.). In addition two new Country Party \r\n",
      "                        Ministers, Mr. R.N. (Mac) Holten (Vic.) and Senator Tom Drake-Brockman \r\n",
      "                        (W.A.) are promoted from the back-benches.\r\n",
      "                        Mr. Peacock becomes the Minister for the Army and Minister Assisting \r\n",
      "                        the Prime Minister.\r\n",
      "                        Although only 30, he has already demonstrated his ability in the House \r\n",
      "                        and in a wide range of matters.\r\n",
      "                        Mr. Hughes, Q.C., a Sydney barrister, becomes Attorney-General, a post \r\n",
      "                        for which he has outstanding qualifications.\r\n",
      "                        Mr. Chipp brings with him experience as a former Minister for the Navy \r\n",
      "                        in his new post as Minister for Customs and Excise.\r\n",
      "                        Mr. Jim Killen, a Brisbane solicitor, is an asset to the Government \r\n",
      "                        as new Minister for the Navy.\r\n",
      "                        Senator Cotton, Government Whip in the Senate and who has held\r\n",
      "                        important posts in that Chamber, has had wide experience in a range\r\n",
      "                        of matters including rural industries. He becomes Minister for\r\n",
      "                        Civil Aviation.\r\n",
      "                        Senator Drake-Brockman, formerly Chairman of Committees in the\r\n",
      "                        Senate, is Minister for Air, and Mr. Holten, the able member for\r\n",
      "                        Indi, is Minister for Repatriation.\r\n",
      "                        A number of other portfolios changed hands in this major re-construction\r\n",
      "                        and strengthening of the Ministry.\r\n",
      "                                                \r\n",
      "                                                ends.\r\n",
      "\n"
     ]
    }
   ],
   "source": [
    "# print file contents\n",
    "# change zero to something else to print a different file\n",
    "# \"r\" tells python that it has the ability to read the files\n",
    "files = open(os.path.join(corpus_path, files[0]), \"r\")\n",
    "text = files.read()\n",
    "print text"
   ]
  },
  {
   "cell_type": "markdown",
   "metadata": {},
   "source": [
    "### Exploring further: splitting up text"
   ]
  },
  {
   "cell_type": "markdown",
   "metadata": {},
   "source": [
    "We've had a look at one file, but the real strength of NLTK is to be able to explore large bodies of text. \n",
    "\n",
    "When we manually inspected the first file, we saw that it contained a metadata section, before the body of the text. \n",
    "\n",
    "We can ask Python to show us just the start of the file. For analysing the text, it is useful to split the metadata section off, so that we can interrogate it separately but also so that it won't distort our results when we analyse the text."
   ]
  },
  {
   "cell_type": "code",
   "execution_count": 11,
   "metadata": {
    "collapsed": false
   },
   "outputs": [],
   "source": [
    "# split the file we read in above into two parts\n",
    "data = text.split(\"<!--end metadata-->\")"
   ]
  },
  {
   "cell_type": "code",
   "execution_count": 12,
   "metadata": {
    "collapsed": false
   },
   "outputs": [
    {
     "name": "stdout",
     "output_type": "stream",
     "text": [
      "<!--start metadata-->\r\n",
      "Title: Ministry of Defence, Vietnam\r\n",
      "Description: Radio talk\r\n",
      "Date: 12/11/1969\r\n",
      "Collection: John Malcolm Fraser, 2007.0023\r\n",
      "Collection URI: http://gallery.its.unimelb.edu.au/imu/imu.php?request=load&irn=115190&ecatalogue=on&view=details\r\n",
      "Format: Uncorrected OCR text\r\n",
      "\n"
     ]
    }
   ],
   "source": [
    "# view the first part\n",
    "print data[0]"
   ]
  },
  {
   "cell_type": "code",
   "execution_count": 13,
   "metadata": {
    "collapsed": false
   },
   "outputs": [
    {
     "name": "stdout",
     "output_type": "stream",
     "text": [
      "* <!--start metadata-->\n",
      "* Title: Ministry of Defence, Vietnam\n",
      "* Description: Radio talk\n",
      "* Date: 12/11/1969\n",
      "* Collection: John Malcolm Fraser, 2007.0023\n",
      "* Collection URI: http://gallery.its.unimelb.edu.au/imu/imu.php?request=load&irn=115190&ecatalogue=on&view=details\n",
      "* Format: Uncorrected OCR text\n",
      "* \n"
     ]
    }
   ],
   "source": [
    "# split into lines, add '*' to the start of each line\n",
    "# \\r is a carriage return, like on a typewriter.\n",
    "# \\n is a newline character\n",
    "for line in data[0].split('\\r\\n'):\n",
    "    print '*', line"
   ]
  },
  {
   "cell_type": "code",
   "execution_count": 14,
   "metadata": {
    "collapsed": false
   },
   "outputs": [
    {
     "name": "stdout",
     "output_type": "stream",
     "text": [
      "* Title: Ministry of Defence, Vietnam\n",
      "* Description: Radio talk\n",
      "* Date: 12/11/1969\n",
      "* Collection: John Malcolm Fraser, 2007.0023\n",
      "* Collection URI: http://gallery.its.unimelb.edu.au/imu/imu.php?request=load&irn=115190&ecatalogue=on&view=details\n",
      "* Format: Uncorrected OCR text\n"
     ]
    }
   ],
   "source": [
    "# skip empty lines and any line that starts with '<'\n",
    "for line in data[0].split('\\r\\n'):\n",
    "    if not line:\n",
    "        continue\n",
    "    if line[0] == '<':\n",
    "        continue\n",
    "    print '*', line"
   ]
  },
  {
   "cell_type": "code",
   "execution_count": 15,
   "metadata": {
    "collapsed": false
   },
   "outputs": [
    {
     "name": "stdout",
     "output_type": "stream",
     "text": [
      "* ['Title', ' Ministry of Defence, Vietnam']\n",
      "* ['Description', ' Radio talk']\n",
      "* ['Date', ' 12/11/1969']\n",
      "* ['Collection', ' John Malcolm Fraser, 2007.0023']\n",
      "* ['Collection URI', ' http', '//gallery.its.unimelb.edu.au/imu/imu.php?request=load&irn=115190&ecatalogue=on&view=details']\n",
      "* ['Format', ' Uncorrected OCR text']\n"
     ]
    }
   ],
   "source": [
    "# split the metadata items on ':' so that we can interrogate each one\n",
    "for line in data[0].split('\\r\\n'):\n",
    "    if not line:\n",
    "        continue\n",
    "    if line[0] == '<':\n",
    "        continue\n",
    "    element = line.split(':')\n",
    "    print '*', element"
   ]
  },
  {
   "cell_type": "code",
   "execution_count": 16,
   "metadata": {
    "collapsed": false
   },
   "outputs": [
    {
     "name": "stdout",
     "output_type": "stream",
     "text": [
      "* ['Title', ' Ministry of Defence, Vietnam']\n",
      "* ['Description', ' Radio talk']\n",
      "* ['Date', ' 12/11/1969']\n",
      "* ['Collection', ' John Malcolm Fraser, 2007.0023']\n",
      "* ['Collection URI', ' http://gallery.its.unimelb.edu.au/imu/imu.php?request=load&irn=115190&ecatalogue=on&view=details']\n",
      "* ['Format', ' Uncorrected OCR text']\n"
     ]
    }
   ],
   "source": [
    "# actually, only split on the first colon\n",
    "for line in data[0].split('\\r\\n'):\n",
    "    if not line:\n",
    "        continue\n",
    "    if line[0] == '<':\n",
    "        continue\n",
    "    element = line.split(':', 1)\n",
    "    print '*', element"
   ]
  },
  {
   "cell_type": "markdown",
   "metadata": {},
   "source": [
    "### **Challenge**: Building a Dictionary"
   ]
  },
  {
   "cell_type": "markdown",
   "metadata": {},
   "source": [
    "We've already worked with strings and lists. Another kind of data structure in Python is a *dictionary*.\n",
    "\n",
    "Here is how a simple dictionary works:"
   ]
  },
  {
   "cell_type": "code",
   "execution_count": 17,
   "metadata": {
    "collapsed": false
   },
   "outputs": [
    {
     "data": {
      "text/plain": [
       "3809"
      ]
     },
     "execution_count": 17,
     "metadata": {},
     "output_type": "execute_result"
    }
   ],
   "source": [
    "# create a dictionary\n",
    "commonwords = {'the': 4023, 'of': 3809, 'a': 3098}\n",
    "# search the dictionary for 'of'\n",
    "commonwords['of']"
   ]
  },
  {
   "cell_type": "code",
   "execution_count": 18,
   "metadata": {
    "collapsed": false
   },
   "outputs": [
    {
     "data": {
      "text/plain": [
       "dict"
      ]
     },
     "execution_count": 18,
     "metadata": {},
     "output_type": "execute_result"
    }
   ],
   "source": [
    "type(commonwords)"
   ]
  },
  {
   "cell_type": "markdown",
   "metadata": {},
   "source": [
    "The point of dictionaries is to store a *key* (the word) and a *value* (the count). When you ask for the key, you get its value.\n",
    "\n",
    "Notice that you use curly braces for dictionaries, but square brackets for lists.\n",
    "\n",
    "Dictionaries are a great way to work with the metadata in our corpus. Let's build a dictionary called *metadata*:\n",
    "\n",
    "Your first line will look like this:\n",
    "\n",
    "      metadata = {}"
   ]
  },
  {
   "cell_type": "code",
   "execution_count": 19,
   "metadata": {
    "collapsed": false
   },
   "outputs": [
    {
     "name": "stdout",
     "output_type": "stream",
     "text": [
      "{'Collection URI': ' http://gallery.its.unimelb.edu.au/imu/imu.php?request=load&irn=115190&ecatalogue=on&view=details', 'Description': ' Radio talk', 'Format': ' Uncorrected OCR text', 'Title': ' Ministry of Defence, Vietnam', 'Collection': ' John Malcolm Fraser, 2007.0023', 'Date': ' 12/11/1969'}\n"
     ]
    }
   ],
   "source": [
    "metadata = {}\n",
    "for line in data[0].split('\\r\\n'):\n",
    "    if not line:\n",
    "        continue\n",
    "    if line[0] == '<':\n",
    "        continue\n",
    "    element = line.split(':', 1)\n",
    "    metadata[element[0]] = element[-1]\n",
    "print metadata"
   ]
  },
  {
   "cell_type": "code",
   "execution_count": 20,
   "metadata": {
    "collapsed": false
   },
   "outputs": [
    {
     "name": "stdout",
     "output_type": "stream",
     "text": [
      " 12/11/1969\n"
     ]
    }
   ],
   "source": [
    "# look up the date\n",
    "print metadata['Date']"
   ]
  },
  {
   "cell_type": "markdown",
   "metadata": {},
   "source": [
    "### Building functions"
   ]
  },
  {
   "cell_type": "markdown",
   "metadata": {},
   "source": [
    "**Challenge**: define a function that creates a dictionary of the metadata for each file and gets rid of the whitespace at the start of each element\n",
    "\n",
    "**Hint**: to get rid of the whitespace use the *.strip()* command."
   ]
  },
  {
   "cell_type": "code",
   "execution_count": 21,
   "metadata": {
    "collapsed": false
   },
   "outputs": [],
   "source": [
    "# open the first file, read it and then split it into two parts, metadata and body\n",
    "data = open(os.path.join(corpus_path, 'UDS2013680-100-full.txt'))\n",
    "data = data.read().split(\"<!--end metadata-->\")"
   ]
  },
  {
   "cell_type": "code",
   "execution_count": 22,
   "metadata": {
    "collapsed": false
   },
   "outputs": [],
   "source": [
    "def parse_metadata(text):\n",
    "    metadata = {}\n",
    "    for line in text.split('\\r\\n'):\n",
    "        if not line:\n",
    "            continue\n",
    "        if line[0] == '<':\n",
    "            continue\n",
    "        element = line.split(':', 1)\n",
    "        metadata[element[0]] = element[-1].strip(' ')\n",
    "    return metadata"
   ]
  },
  {
   "cell_type": "markdown",
   "metadata": {},
   "source": [
    "Test it out!"
   ]
  },
  {
   "cell_type": "code",
   "execution_count": 23,
   "metadata": {
    "collapsed": false
   },
   "outputs": [
    {
     "data": {
      "text/plain": [
       "{'Collection': 'John Malcolm Fraser, 2007.0023',\n",
       " 'Collection URI': 'http://gallery.its.unimelb.edu.au/imu/imu.php?request=load&irn=115190&ecatalogue=on&view=details',\n",
       " 'Date': '2/04/1963',\n",
       " 'Description': 'press statement',\n",
       " 'Format': 'Uncorrected OCR text',\n",
       " 'Title': 'Portland wool sales'}"
      ]
     },
     "execution_count": 23,
     "metadata": {},
     "output_type": "execute_result"
    }
   ],
   "source": [
    "parse_metadata(data[0])"
   ]
  },
  {
   "cell_type": "markdown",
   "metadata": {},
   "source": [
    "Now that we're confident that the function works, let's find out a bit about the corpus.\n",
    "As a start, it would be useful to know which years the texts are from. Are they evenly distributed over time? A graph will tell us!"
   ]
  },
  {
   "cell_type": "code",
   "execution_count": 24,
   "metadata": {
    "collapsed": false
   },
   "outputs": [],
   "source": [
    "#import conditional frequency distribution\n",
    "from nltk.probability import ConditionalFreqDist\n",
    "import matplotlib\n",
    "% matplotlib inline"
   ]
  },
  {
   "cell_type": "code",
   "execution_count": 25,
   "metadata": {
    "collapsed": false
   },
   "outputs": [
    {
     "data": {
      "image/png": "[encoded data removed]",
      "text/plain": [
       "<matplotlib.figure.Figure at 0x1081e4190>"
      ]
     },
     "metadata": {},
     "output_type": "display_data"
    }
   ],
   "source": [
    "cfdist = ConditionalFreqDist()\n",
    "for filename in os.listdir(corpus_path):\n",
    "    text = open(os.path.join(corpus_path, filename)).read()\n",
    "    #split text of file on 'end metadata'\n",
    "    text = text.split(\"<!--end metadata-->\")\n",
    "    #parse metadata using previously defined function \"parse_metadata\"\n",
    "    metadata = parse_metadata(text[0])\n",
    "    #skip all speeches for which there is no exact date\n",
    "    if metadata['Date'][0] == 'c':\n",
    "        continue\n",
    "    #build a frequency distribution graph by year, that is, take the final bit of the 'Date' string after '/'\n",
    "    cfdist['count'][metadata['Date'].split('/')[-1]] += 1\n",
    "cfdist.plot()"
   ]
  },
  {
   "cell_type": "markdown",
   "metadata": {},
   "source": [
    "Now let's build another graph, but this time by the 'Description' field:"
   ]
  },
  {
   "cell_type": "code",
   "execution_count": 26,
   "metadata": {
    "collapsed": false
   },
   "outputs": [
    {
     "data": {
      "image/png": "[encoded data removed]",
      "text/plain": [
       "<matplotlib.figure.Figure at 0x103d9b390>"
      ]
     },
     "metadata": {},
     "output_type": "display_data"
    }
   ],
   "source": [
    "cfdist2 = ConditionalFreqDist()\n",
    "for filename in os.listdir(corpus_path):\n",
    "    text = open(os.path.join(corpus_path, filename)).read()\n",
    "    text = text.split(\"<!--end metadata-->\")\n",
    "    metadata = parse_metadata(text[0])\n",
    "    if metadata['Date'][0] == 'c':\n",
    "        continue\n",
    "    cfdist2['count'][metadata['Description']] += 1\n",
    "cfdist2.plot()"
   ]
  },
  {
   "cell_type": "markdown",
   "metadata": {},
   "source": [
    "#### Discussion"
   ]
  },
  {
   "cell_type": "markdown",
   "metadata": {},
   "source": [
    "We've got messy data! What's the lesson here?\n",
    "<br>"
   ]
  },
  {
   "cell_type": "markdown",
   "metadata": {},
   "source": [
    "**Bonus challenge**: Build a frequency distribution graph that includes speeches without an exact date.\n",
    "Hint: you'll need to tell Python to ignore the 'c' and just take the digits"
   ]
  },
  {
   "cell_type": "code",
   "execution_count": 27,
   "metadata": {
    "collapsed": false
   },
   "outputs": [
    {
     "data": {
      "image/png": "[encoded data removed]",
      "text/plain": [
       "<matplotlib.figure.Figure at 0x108381290>"
      ]
     },
     "metadata": {},
     "output_type": "display_data"
    }
   ],
   "source": [
    "cfdist3 = ConditionalFreqDist()\n",
    "for filename in os.listdir(corpus_path):\n",
    "    text = open(os.path.join(corpus_path, filename)).read()\n",
    "    text = text.split(\"<!--end metadata-->\")\n",
    "    metadata = parse_metadata(text[0])\n",
    "    date = metadata['Date']\n",
    "    if date[0] == 'c':\n",
    "        year = date[1:]\n",
    "    elif date[0] != 'c':\n",
    "        year = date.split('/')[-1]\n",
    "    cfdist3['count'][year] += 1\n",
    "cfdist3.plot()"
   ]
  },
  {
   "cell_type": "markdown",
   "metadata": {},
   "source": [
    "### Ordering our data"
   ]
  },
  {
   "cell_type": "markdown",
   "metadata": {},
   "source": [
    "Previously, we looked at features of language in whole books. The way in which you organise your data will affect the ways in which you can interrogate it. Because our data samples span a long stretch of time, we thought we'd investigate the ways in which Malcolm Fraser's language changes over time. This will be the key focus of the next session.\n",
    "\n",
    "In order to study this, it is helpful to structure our data according to the year of the sample. This simply means creating folders for each sample year, and moving the text of each speech into the correct one.\n",
    "\n",
    "We can use our metadata parser to help with this task. Then, after structuring our corpus by date, we want the metadata gone, so that when we count language features in the files, we are not also counting the metadata.\n"
   ]
  },
  {
   "cell_type": "markdown",
   "metadata": {},
   "source": [
    "#### Side note - Regular expressions\n",
    "Regular expressions are a powerful means of searching for patterns in data. In this case, we're going to construct a regular expression to find the year of each speech. There are various ways in which we could write this expression, depending on how confident we are that the data is clean and the range of dates we're interested in."
   ]
  },
  {
   "cell_type": "code",
   "execution_count": 28,
   "metadata": {
    "collapsed": false
   },
   "outputs": [
    {
     "ename": "OSError",
     "evalue": "[Errno 17] File exists: '../corpora/fraser-year'",
     "output_type": "error",
     "traceback": [
      "\u001b[0;31m---------------------------------------------------------------------------\u001b[0m",
      "\u001b[0;31mOSError\u001b[0m                                   Traceback (most recent call last)",
      "\u001b[0;32m<ipython-input-28-e6873f0bce81>\u001b[0m in \u001b[0;36m<module>\u001b[0;34m()\u001b[0m\n\u001b[1;32m      3\u001b[0m \u001b[0;31m# a path to our soonwordso-be organised corpus\u001b[0m\u001b[0;34m\u001b[0m\u001b[0;34m\u001b[0m\u001b[0m\n\u001b[1;32m      4\u001b[0m \u001b[0mnewpath\u001b[0m \u001b[0;34m=\u001b[0m \u001b[0;34m'../corpora/fraser-year'\u001b[0m\u001b[0;34m\u001b[0m\u001b[0m\n\u001b[0;32m----> 5\u001b[0;31m \u001b[0mos\u001b[0m\u001b[0;34m.\u001b[0m\u001b[0mmakedirs\u001b[0m\u001b[0;34m(\u001b[0m\u001b[0mnewpath\u001b[0m\u001b[0;34m)\u001b[0m\u001b[0;34m\u001b[0m\u001b[0m\n\u001b[0m\u001b[1;32m      6\u001b[0m \u001b[0mfiles\u001b[0m \u001b[0;34m=\u001b[0m \u001b[0mos\u001b[0m\u001b[0;34m.\u001b[0m\u001b[0mlistdir\u001b[0m\u001b[0;34m(\u001b[0m\u001b[0mcorpus_path\u001b[0m\u001b[0;34m)\u001b[0m\u001b[0;34m\u001b[0m\u001b[0m\n\u001b[1;32m      7\u001b[0m \u001b[0;31m# define a regex to match year portion of date\u001b[0m\u001b[0;34m\u001b[0m\u001b[0;34m\u001b[0m\u001b[0m\n",
      "\u001b[0;32m/Users/fionatweedie/anaconda/lib/python2.7/os.pyc\u001b[0m in \u001b[0;36mmakedirs\u001b[0;34m(name, mode)\u001b[0m\n\u001b[1;32m    155\u001b[0m         \u001b[0;32mif\u001b[0m \u001b[0mtail\u001b[0m \u001b[0;34m==\u001b[0m \u001b[0mcurdir\u001b[0m\u001b[0;34m:\u001b[0m           \u001b[0;31m# xxx/newdir/. exists if xxx/newdir exists\u001b[0m\u001b[0;34m\u001b[0m\u001b[0m\n\u001b[1;32m    156\u001b[0m             \u001b[0;32mreturn\u001b[0m\u001b[0;34m\u001b[0m\u001b[0m\n\u001b[0;32m--> 157\u001b[0;31m     \u001b[0mmkdir\u001b[0m\u001b[0;34m(\u001b[0m\u001b[0mname\u001b[0m\u001b[0;34m,\u001b[0m \u001b[0mmode\u001b[0m\u001b[0;34m)\u001b[0m\u001b[0;34m\u001b[0m\u001b[0m\n\u001b[0m\u001b[1;32m    158\u001b[0m \u001b[0;34m\u001b[0m\u001b[0m\n\u001b[1;32m    159\u001b[0m \u001b[0;32mdef\u001b[0m \u001b[0mremovedirs\u001b[0m\u001b[0;34m(\u001b[0m\u001b[0mname\u001b[0m\u001b[0;34m)\u001b[0m\u001b[0;34m:\u001b[0m\u001b[0;34m\u001b[0m\u001b[0m\n",
      "\u001b[0;31mOSError\u001b[0m: [Errno 17] File exists: '../corpora/fraser-year'"
     ]
    }
   ],
   "source": [
    "import re\n",
    "import os\n",
    "# a path to our soonwordso-be organised corpus\n",
    "newpath = '../corpora/fraser-year'\n",
    "os.makedirs(newpath)\n",
    "files = os.listdir(corpus_path)\n",
    "# define a regex to match year portion of date\n",
    "yearfinder = re.compile('19[0-9]{2}')\n",
    "for filename in files:\n",
    "    # split file contents at end of metadata\n",
    "    text = open(os.path.join(corpus_path, filename))\n",
    "    data = text.read().split(\"<!--end metadata-->\")\n",
    "    # get date from data[0]\n",
    "    # use our metadata parser to get metadata\n",
    "    metadata = parse_metadata(data[0])\n",
    "    #look up date field of dict entry\n",
    "    date = metadata.get('Date')\n",
    "    # search date for year\n",
    "    yearmatch = re.search(yearfinder, str(date))\n",
    "    #get the year as a string\n",
    "    year = str(yearmatch.group())\n",
    "    # make a directory with the year name\n",
    "    if not os.path.exists(os.path.join(newpath, year)):\n",
    "        os.makedirs(os.path.join(newpath, year))\n",
    "    # make a new file with the same name as the old one in the new dir\n",
    "    fo = open(os.path.join(newpath, year, filename),\"w\")\n",
    "    # write the content portion, without metadata\n",
    "    fo.write(data[1])\n",
    "    fo.close()"
   ]
  },
  {
   "cell_type": "markdown",
   "metadata": {},
   "source": [
    "Did it work? How can we check?"
   ]
  },
  {
   "cell_type": "code",
   "execution_count": 29,
   "metadata": {
    "collapsed": false
   },
   "outputs": [
    {
     "name": "stdout",
     "output_type": "stream",
     "text": [
      "['1954', '1956', '1957', '1958', '1959', '1960', '1961', '1962', '1963', '1964', '1965', '1966', '1967', '1968', '1969', '1970', '1971', '1972', '1973', '1974', '1975', '1981', '1982']\n",
      "['UDS2013680-703-full.txt', 'UDS2013680-704-full.txt', 'UDS2013680-705-full.txt', 'UDS2013680-706-full.txt', 'UDS2013680-707-full.txt', 'UDS2013680-708-full.txt', 'UDS2013680-709-full.txt', 'UDS2013680-710-full.txt', 'UDS2013680-711-full.txt', 'UDS2013680-712-full.txt', 'UDS2013680-713-full.txt', 'UDS2013680-714-full.txt', 'UDS2013680-715-full.txt', 'UDS2013680-716-full.txt', 'UDS2013680-717-full.txt', 'UDS2013680-718-full.txt', 'UDS2013680-719-full.txt', 'UDS2013680-720-full.txt', 'UDS2013680-721-full.txt', 'UDS2013680-722-full.txt', 'UDS2013680-723-full.txt', 'UDS2013680-724-full.txt', 'UDS2013680-725-full.txt']\n"
     ]
    }
   ],
   "source": [
    "print os.listdir(newpath)\n",
    "print os.listdir(newpath + '/1981')"
   ]
  },
  {
   "cell_type": "markdown",
   "metadata": {},
   "source": [
    "## Using NLTK to analyse the Fraser Corpus"
   ]
  },
  {
   "cell_type": "markdown",
   "metadata": {},
   "source": [
    "The books were were working with yesterday had already had some processing done on them so that we could use NLTK to find features of the language. Remember that Python regards a text file as a single long string of characters. The first thing to do is to start breaking the text up into sentences and words."
   ]
  },
  {
   "cell_type": "code",
   "execution_count": 30,
   "metadata": {
    "collapsed": false
   },
   "outputs": [
    {
     "name": "stdout",
     "output_type": "stream",
     "text": [
      "['ELECTORAL', 'RADIO', 'TALK', 'Embargo', ':', 'Sunday', ',', '23rd', 'Feb.', '75', '.', '6.00', 'p.m', '.', 'THE', 'HON', '.', 'MEMBER', 'FOR', 'WANNON', '-', 'MALCOLM', 'FRASER', 'In', 'answer', 'to', 'questions', 'early', 'this', 'week', ',', 'the', 'Treasurer', ',', 'Dr', 'Cairns', ',', 'put', 'himself', 'in', 'direct', 'contradiction', 'to', 'the', 'Prime', 'Minister', 'concerning', 'the', 'nature', 'of', 'economic', 'problems', '.', 'On', 'the', '27th', 'January', ',', 'Mr', 'Whitlam', 'was', 're-', 'ported', 'to', 'have', 'said', 'from', 'Adelaide', ':', \"''\", 'You', 'can', 'not', 'blame', 'Vietnam', 'for', 'the', 'inflation', 'in', 'the', 'Western', 'world', '.', '``', 'You', 'can', 'not', 'blame', 'the', 'Oil', 'crisis', 'for', 'the', 'inflation', 'in', 'Australia', '.', 'You', 'can', 'not']\n"
     ]
    }
   ],
   "source": [
    "from nltk import word_tokenize\n",
    "speech = open('../corpora/fraser-year/1975/UDS2013680-678-full.txt', \"r\").read() \n",
    "tokens = word_tokenize(speech)\n",
    "print tokens[:100]"
   ]
  },
  {
   "cell_type": "markdown",
   "metadata": {},
   "source": [
    "Breaking a speech into tokens lets us do the sort of word counting that we were doing yesterday on the speeches. We can do some more interesting linguistic analysis if we use Part of Speech tagging. NLTK has a number of different Part of Speech tags that we could use, but the simplest one is called 'Universal', and we'll use that here."
   ]
  },
  {
   "cell_type": "code",
   "execution_count": 31,
   "metadata": {
    "collapsed": false,
    "scrolled": true
   },
   "outputs": [
    {
     "name": "stdout",
     "output_type": "stream",
     "text": [
      "[('They', u'PRON'), ('refuse', u'VERB'), ('to', u'PRT'), ('permit', u'VERB'), ('us', u'PRON'), ('the', u'DET'), ('refuse', u'NOUN'), ('permit', u'NOUN')]\n"
     ]
    }
   ],
   "source": [
    "sentence = \"They refuse to permit us the refuse permit\"\n",
    "words = word_tokenize(sentence)\n",
    "tagged = nltk.pos_tag(words, tagset='universal')\n",
    "print tagged"
   ]
  },
  {
   "cell_type": "markdown",
   "metadata": {},
   "source": [
    "Part of Speech tagging creates bigrams, that is, it associates the word with its tag in a pair of items that we can see above in brackets.  "
   ]
  },
  {
   "cell_type": "code",
   "execution_count": 32,
   "metadata": {
    "collapsed": false
   },
   "outputs": [
    {
     "data": {
      "text/plain": [
       "[(u'PRON', 2), (u'VERB', 2), (u'NOUN', 2), (u'DET', 1), (u'PRT', 1)]"
      ]
     },
     "execution_count": 32,
     "metadata": {},
     "output_type": "execute_result"
    }
   ],
   "source": [
    "tag_fd = nltk.FreqDist(tag for (word, tag) in tagged)\n",
    "tag_fd.most_common()"
   ]
  },
  {
   "cell_type": "markdown",
   "metadata": {},
   "source": [
    "### Challenge!\n",
    "Use Part of Speech tagging to tag the speech that we have just tokenised the do the following:\n",
    "* Find the most common parts of speech\n",
    "* Find the most common verbs and create a frequency Distribution graph of your result\n",
    "* Find the 10 most common nouns in the speech\n",
    "\n",
    "*Hint: to find the most common verbs and nouns, you will need to create a list that contains only the verbs or only the nouns from the speech. Use a for loop to create your list. Then create a frequency distribution*"
   ]
  },
  {
   "cell_type": "code",
   "execution_count": 51,
   "metadata": {
    "collapsed": false
   },
   "outputs": [
    {
     "data": {
      "text/plain": [
       "[(u'NOUN', 291),\n",
       " (u'VERB', 156),\n",
       " (u'ADP', 128),\n",
       " (u'DET', 127),\n",
       " (u'.', 84),\n",
       " (u'ADV', 50),\n",
       " (u'ADJ', 49),\n",
       " (u'PRON', 39),\n",
       " (u'PRT', 32),\n",
       " (u'CONJ', 26),\n",
       " (u'NUM', 22),\n",
       " (u'X', 6)]"
      ]
     },
     "execution_count": 51,
     "metadata": {},
     "output_type": "execute_result"
    }
   ],
   "source": [
    "tagged_speech = nltk.pos_tag(tokens, tagset = 'universal')\n",
    "speech_fd = nltk.FreqDist(tag for (word, tag) in tagged_speech)\n",
    "speech_fd.most_common()"
   ]
  },
  {
   "cell_type": "code",
   "execution_count": 62,
   "metadata": {
    "collapsed": false
   },
   "outputs": [
    {
     "name": "stdout",
     "output_type": "stream",
     "text": [
      "156\n",
      "[('is', 15), ('are', 10), ('have', 8), ('be', 6), ('made', 5), ('blame', 4), ('can', 4), ('has', 3), ('said', 3), ('does', 3)]\n"
     ]
    },
    {
     "data": {
      "image/png": "[encoded data removed]",
      "text/plain": [
       "<matplotlib.figure.Figure at 0x108b039d0>"
      ]
     },
     "metadata": {},
     "output_type": "display_data"
    }
   ],
   "source": [
    "verblist = []\n",
    "for (word, tag) in tagged_speech:\n",
    "    if tag == 'VERB':\n",
    "        verblist.append(word)\n",
    "# Check the length of the list of verbs. \n",
    "#If it matches the number of verbs above, you can be fairly sure your loop has worked as expected\n",
    "print len(verblist)\n",
    "verb_fd = nltk.FreqDist(verblist)\n",
    "print verb_fd.most_common()[:10]\n",
    "verb_fd.plot(cumulative = True)"
   ]
  },
  {
   "cell_type": "code",
   "execution_count": 59,
   "metadata": {
    "collapsed": false
   },
   "outputs": [
    {
     "name": "stdout",
     "output_type": "stream",
     "text": [
      "291\n",
      "[('Prime', 8), ('Vietnam', 8), ('Minister', 8), ('unemployment', 7), ('wool', 7), ('government', 7), ('South', 5), ('United', 4), ('Australia', 4), ('North', 4)]\n"
     ]
    }
   ],
   "source": [
    "nounlist = []\n",
    "for (word, tag) in tagged_speech:\n",
    "    if tag == 'NOUN':\n",
    "        nounlist.append(word)\n",
    "#print nounlist[:10]\n",
    "print len(nounlist)\n",
    "noun_fd = nltk.FreqDist(nounlist)\n",
    "print noun_fd.most_common()[:10]"
   ]
  },
  {
   "cell_type": "markdown",
   "metadata": {},
   "source": [
    "**Extension**\n",
    "There are a few things to note about this result - Prime and Minister have been returned as two different, equally frequent nouns. Because we're humans, not computers, we know it's likely that what we're actually seeing is 'Prime Minister'. It's also unlikely that 'North' 'South' occur alone - perhaps Mr Fraser was talking baout North and South Vietnam? We could test for bigrams (words that typically occur side by side) to see if this is the case. In order to perform this test, we must first convert our list of tokens into and NLTK text. We can then use specific NLTK functions on the text."
   ]
  },
  {
   "cell_type": "code",
   "execution_count": 72,
   "metadata": {
    "collapsed": false
   },
   "outputs": [
    {
     "name": "stdout",
     "output_type": "stream",
     "text": [
      "<type 'list'>\n",
      "<class 'nltk.text.Text'>\n",
      "Prime Minister; United States; South Vietnam; Third World; tax payer;\n",
      "small minority; made available; wool stocks; North Vietnam; Minister\n",
      "made\n"
     ]
    }
   ],
   "source": [
    "print type(tokens)\n",
    "speech_text = nltk.Text(tokens)\n",
    "print type(speech_text)\n",
    "speech_text.collocations()"
   ]
  },
  {
   "cell_type": "markdown",
   "metadata": {},
   "source": [
    "### Some linguistics..."
   ]
  },
  {
   "cell_type": "markdown",
   "metadata": {},
   "source": [
    "*Functional linguistics* is a research area concerned with how *realised language* (lexis and grammar) work to achieve meaningful social functions.\n",
    "\n",
    "One functional linguistic theory is *Systemic Functional Linguistics*, developed by Michael Halliday (Prof. Emeritus at University of Sydney).\n",
    "\n",
    "Central to the theory is a division between **experiential meanings** and **interpersonal meanings**.\n",
    "\n",
    "* Experiential meanings communicate what happened to whom, under what circumstances.\n",
    "* Interpersonal meanings negotiate identities and role relationships between speakers \n",
    "\n",
    "Halliday argues that these two kinds of meaning are realised **simultaneously** through different parts of English grammar.\n",
    "\n",
    "* Experiential meanings are made through **transitivity choices**.\n",
    "* Interpersonal meanings are made through **mood choices**\n",
    "\n",
    "\n",
    "Transitivity choices include fitting together configurations of:\n",
    "\n",
    "* Participants (*a man, green bikes*)\n",
    "* Processes (*sleep, has always been, is considering*)\n",
    "* Circumstances (*on the weekend*, *in Australia*)\n",
    "\n",
    "Mood features of a language include:\n",
    "\n",
    "* Mood types (*declarative, interrogative, imperative*)\n",
    "* Modality (*would, can, might*)\n",
    "* Lexical density--wordshe number of words per clause, the number of content to non-content words, etc.\n",
    "\n",
    "Lexical density is usually a good indicator of the general tone of texts. The language of academia, for example, often has a huge number of nouns to verbs. We can approximate an academic tone simply by making nominally dense clauses: \n",
    "\n",
    "      The consideration of interest is the potential for a participant of a certain demographic to be in Group A or Group B*.\n",
    "\n",
    "Notice how not only are there many nouns (*consideration*, *interest*, *potential*, etc.), but that the verbs are very simple (*is*, *to be*).\n",
    "\n",
    "In comparison, informal speech is characterised by smaller clauses, and thus more verbs.\n",
    "\n",
    "      A: Did you feel like dropping by?\n",
    "      B: I thought I did, but now I don't think I want to\n",
    "\n",
    "Here, we have only a few, simple nouns (*you*, *I*), with more expressive verbs (*feel*, *dropping by*, *think*, *want*)\n",
    "\n",
    "> **Note**: SFL argues that through *grammatical metaphor*, one linguistic feature can stand in for another. *Would you please shut the door?* is an interrogative, but it functions as a command. *invitation* is a nominalisation of a process, *invite*. We don't have time to deal with these kinds of realisations, unfortunately."
   ]
  },
  {
   "cell_type": "markdown",
   "metadata": {},
   "source": [
    "In the context of Fraser's speech, there are nearly twice as many nouns as verbs, and the verbs are generally quite simple ones (parts of To Be and To Have make up about a quarter). This suggests that Fraser's speech, even when giving a radio talk to his electorate, is more towards the formal end of the spectrum. "
   ]
  },
  {
   "cell_type": "markdown",
   "metadata": {},
   "source": [
    "## Recap\n",
    "So far today we have:\n",
    "* Imported text into NLTK\n",
    "* Used functions and loops to investigate metadata and organise our corpus\n",
    "* Tokenised raw text into words\n",
    "* Tagged words as parts of speech\n",
    "* Converted a list into NLTK Text for further analysis"
   ]
  },
  {
   "cell_type": "markdown",
   "metadata": {},
   "source": [
    "## Stopwords\n",
    "Yesterday, when we did our frequency counts of the books in the NLTK Library, we noticed that a lot of speace was taken up by little words like 'and' and 'of' and 'the' which don't add a lot to our understanding of text. These are called 'stop words'. It will help our analysis if we exclude them."
   ]
  },
  {
   "cell_type": "code",
   "execution_count": 76,
   "metadata": {
    "collapsed": false
   },
   "outputs": [
    {
     "data": {
      "text/plain": [
       "[('the', 71),\n",
       " ('.', 39),\n",
       " ('of', 29),\n",
       " ('to', 27),\n",
       " (',', 27),\n",
       " ('in', 27),\n",
       " ('and', 21),\n",
       " ('a', 18),\n",
       " ('that', 17),\n",
       " ('is', 15),\n",
       " ('are', 10),\n",
       " ('for', 10),\n",
       " ('not', 8),\n",
       " ('have', 8),\n",
       " ('Minister', 8),\n",
       " ('Prime', 8),\n",
       " ('Vietnam', 8),\n",
       " ('The', 7),\n",
       " ('wool', 7),\n",
       " ('government', 7)]"
      ]
     },
     "execution_count": 76,
     "metadata": {},
     "output_type": "execute_result"
    }
   ],
   "source": [
    "fdist1 = nltk.FreqDist(tokens)\n",
    "fdist1.most_common()[:20]"
   ]
  },
  {
   "cell_type": "code",
   "execution_count": 88,
   "metadata": {
    "collapsed": false
   },
   "outputs": [
    {
     "name": "stdout",
     "output_type": "stream",
     "text": [
      "1010\n",
      "435\n"
     ]
    }
   ],
   "source": [
    "print len(speech_text)\n",
    "print len(set(speech_text))"
   ]
  },
  {
   "cell_type": "code",
   "execution_count": 121,
   "metadata": {
    "collapsed": false
   },
   "outputs": [
    {
     "name": "stdout",
     "output_type": "stream",
     "text": [
      "881\n",
      "363\n"
     ]
    }
   ],
   "source": [
    "#First let's get rid of the puncutation\n",
    "speech = [word for word in speech_text if word.isalpha()]\n",
    "print len(speech)\n",
    "#Then get rid of capitals\n",
    "vocab = [word.lower() for word in speech]\n",
    "print len(set(vocab))"
   ]
  },
  {
   "cell_type": "code",
   "execution_count": 123,
   "metadata": {
    "collapsed": false
   },
   "outputs": [
    {
     "data": {
      "text/plain": [
       "[('unemployment', 8),\n",
       " ('prime', 8),\n",
       " ('minister', 8),\n",
       " ('vietnam', 8),\n",
       " ('wool', 7),\n",
       " ('government', 7),\n",
       " ('blame', 6),\n",
       " ('world', 5),\n",
       " ('south', 5),\n",
       " ('made', 5),\n",
       " ('australia', 4),\n",
       " ('question', 4),\n",
       " ('north', 4),\n",
       " ('united', 4),\n",
       " ('years', 3),\n",
       " ('wage', 3),\n",
       " ('inflation', 3),\n",
       " ('every', 3),\n",
       " ('dr', 3),\n",
       " ('people', 3)]"
      ]
     },
     "execution_count": 123,
     "metadata": {},
     "output_type": "execute_result"
    }
   ],
   "source": [
    "from nltk.corpus import stopwords\n",
    "#Create a variable that contains all the stopwords in the NLTK corpus\n",
    "ignored_words = nltk.corpus.stopwords.words('english')\n",
    "unstopped = [word for word in vocab if word not in stopwords.words('english')]\n",
    "fdist2 = nltk.FreqDist(unstopped)\n",
    "fdist2.most_common()[:20]"
   ]
  },
  {
   "cell_type": "markdown",
   "metadata": {},
   "source": [
    "The list we have now is probably more intersting if we wanted to get a sense of the key issues that Fraser was talking about in this speech. Note, we're working with a very small sample here, only 800 words long. This sort of analysis is much more useful over really big corpora.\n",
    "\n",
    "*Note: We could have condensed the first two steps into a single line of code that looked like this:*\n",
    "\n",
    "        unstopped = [word for word in speech if word.lower() not in stopwords.words('english') and word.isalpha()]"
   ]
  },
  {
   "cell_type": "markdown",
   "metadata": {},
   "source": [
    "## Collocation\n",
    "We've just used collocation to test a hypothesis about the most common nouns in the speech we were investigating. Collocation can be quite a powerful tool for finding features of language.\n",
    "\n",
    "First, let's look for bigrams in the whole list of tokens:"
   ]
  },
  {
   "cell_type": "code",
   "execution_count": 126,
   "metadata": {
    "collapsed": false
   },
   "outputs": [
    {
     "data": {
      "text/plain": [
       "[(',', 'and'),\n",
       " ('.', 'The'),\n",
       " ('.', '``'),\n",
       " ('Prime', 'Minister'),\n",
       " ('for', 'the'),\n",
       " ('in', 'the'),\n",
       " ('of', 'the'),\n",
       " ('on', 'the'),\n",
       " ('the', 'government'),\n",
       " ('to', 'the')]"
      ]
     },
     "execution_count": 126,
     "metadata": {},
     "output_type": "execute_result"
    }
   ],
   "source": [
    "from nltk.collocations import *\n",
    "bigram_measures = nltk.collocations.BigramAssocMeasures()\n",
    "finder = BigramCollocationFinder.from_words(tokens)\n",
    "sorted(finder.nbest(bigram_measures.raw_freq, 10))"
   ]
  },
  {
   "cell_type": "markdown",
   "metadata": {},
   "source": [
    "That doesn't tell us much. Let's try again with 'unstopped' our list of tokens with the punctuation and stopwords removed"
   ]
  },
  {
   "cell_type": "code",
   "execution_count": 127,
   "metadata": {
    "collapsed": false
   },
   "outputs": [
    {
     "data": {
      "text/plain": [
       "[('around', 'world'),\n",
       " ('dr', 'cairns'),\n",
       " ('inflation', 'australia'),\n",
       " ('last', 'years'),\n",
       " ('made', 'available'),\n",
       " ('minister', 'made'),\n",
       " ('north', 'vietnam'),\n",
       " ('prime', 'minister'),\n",
       " ('south', 'vietnam'),\n",
       " ('united', 'states')]"
      ]
     },
     "execution_count": 127,
     "metadata": {},
     "output_type": "execute_result"
    }
   ],
   "source": [
    "from nltk.collocations import *\n",
    "bigram_measures = nltk.collocations.BigramAssocMeasures()\n",
    "finder = BigramCollocationFinder.from_words(unstopped)\n",
    "sorted(finder.nbest(bigram_measures.raw_freq, 10))"
   ]
  },
  {
   "cell_type": "markdown",
   "metadata": {},
   "source": [
    "As well as identifying collocations (words that appear near each other), we can also look for n-grams or clusters, which appear immediately adjacent to each other. Repeated N-grams are a good way to get a sense of what a text is about. First, let's see how n-grams are created:"
   ]
  },
  {
   "cell_type": "code",
   "execution_count": 131,
   "metadata": {
    "collapsed": false
   },
   "outputs": [
    {
     "name": "stdout",
     "output_type": "stream",
     "text": [
      "['The', 'family', 'of', 'Dashwood', 'had', 'long', 'been', 'settled', 'in', 'Sussex', '.']\n"
     ]
    }
   ],
   "source": [
    "print sent2"
   ]
  },
  {
   "cell_type": "code",
   "execution_count": 132,
   "metadata": {
    "collapsed": false,
    "scrolled": true
   },
   "outputs": [
    {
     "name": "stdout",
     "output_type": "stream",
     "text": [
      "('The', 'family', 'of')\n",
      "('family', 'of', 'Dashwood')\n",
      "('of', 'Dashwood', 'had')\n",
      "('Dashwood', 'had', 'long')\n",
      "('had', 'long', 'been')\n",
      "('long', 'been', 'settled')\n",
      "('been', 'settled', 'in')\n",
      "('settled', 'in', 'Sussex')\n",
      "('in', 'Sussex', '.')\n"
     ]
    }
   ],
   "source": [
    "from nltk.util import ngrams\n",
    "n = 3\n",
    "trigrams = ngrams(sent2, 3)\n",
    "for gram in trigrams:\n",
    "    print gram"
   ]
  },
  {
   "cell_type": "markdown",
   "metadata": {},
   "source": [
    "There are a lot of trigrams in the sentence, and they don't tell us much. It's when n-grams are repeated that they start to get interesting."
   ]
  },
  {
   "cell_type": "code",
   "execution_count": 133,
   "metadata": {
    "collapsed": true
   },
   "outputs": [],
   "source": [
    "from collections import defaultdict\n",
    "#this will let us find duplicates in our list of n-grams"
   ]
  },
  {
   "cell_type": "code",
   "execution_count": 134,
   "metadata": {
    "collapsed": true
   },
   "outputs": [],
   "source": [
    "#Define a function that will find duplicate lists within a list (i.e. duplicate n-grams within a text)\n",
    "def list_duplicates(seq):\n",
    "    tally = defaultdict(list)\n",
    "    for i, item in enumerate(seq):\n",
    "        tally[item].append(i)\n",
    "    return ((len(locs), key) for key, locs in tally.items() if len(locs) > threshold)"
   ]
  },
  {
   "cell_type": "code",
   "execution_count": 137,
   "metadata": {
    "collapsed": true
   },
   "outputs": [],
   "source": [
    "#Define a function that will find n-grams that occur atleast 4 times\n",
    "def ngrammer(text, gramsize, threshold = 4):\n",
    "    def list_duplicates(seq):\n",
    "        tally = defaultdict(list)\n",
    "        for i, item in enumerate(seq):\n",
    "            tally[item].append(i)\n",
    "        return ((len(locs), key) for key, locs in tally.items() if len(locs) > threshold)\n",
    "    raw_grams = ngrams(text, gramsize)\n",
    "    dupes = list_duplicates(raw_grams)\n",
    "    return sorted(dupes, reverse = True)"
   ]
  },
  {
   "cell_type": "code",
   "execution_count": 173,
   "metadata": {
    "collapsed": false
   },
   "outputs": [
    {
     "data": {
      "text/plain": [
       "[(72, (u'I', u'am', u'sure')),\n",
       " (57, (u'in', u'the', u'world')),\n",
       " (53, (u'as', u'soon', u'as')),\n",
       " (45, (u'I', u'do', u'not')),\n",
       " (42, (u'could', u'not', u'be')),\n",
       " (36, (u'would', u'have', u'been')),\n",
       " (36, (u'her', u'sister', u's')),\n",
       " (34, (u'I', u'dare', u'say')),\n",
       " (33, (u'in', u'spite', u'of')),\n",
       " (31, (u'she', u'could', u'not')),\n",
       " (31, (u'Mrs', u'Jennings', u's')),\n",
       " (27, (u'it', u'would', u'be')),\n",
       " (25, (u'the', u'rest', u'of')),\n",
       " (25, (u'that', u'she', u'had')),\n",
       " (25, (u'of', u'Mrs', u'Jennings')),\n",
       " (25, (u'Mrs', u'John', u'Dashwood')),\n",
       " (24, (u'to', u'be', u'sure')),\n",
       " (24, (u'of', u'her', u'sister')),\n",
       " (24, (u'I', u'have', u'been')),\n",
       " (24, (u'Colonel', u'Brandon', u's')),\n",
       " (23, (u'would', u'not', u'be')),\n",
       " (23, (u'her', u'mother', u's')),\n",
       " (23, (u'as', u'well', u'as')),\n",
       " (23, (u'a', u'great', u'deal')),\n",
       " (22, (u'to', u'her', u'sister')),\n",
       " (22, (u'the', u'Miss', u'Steeles')),\n",
       " (22, (u'she', u'did', u'not')),\n",
       " (22, (u'rest', u'of', u'the')),\n",
       " (22, (u'out', u'of', u'the')),\n",
       " (22, (u'on', u'the', u'subject')),\n",
       " (22, (u'of', u'her', u'own')),\n",
       " (22, (u'of', u'Colonel', u'Brandon')),\n",
       " (22, (u'it', u'was', u'not')),\n",
       " (22, (u'and', u'Mrs', u'Jennings')),\n",
       " (21, (u'the', u'same', u'time')),\n",
       " (21, (u'her', u'mother', u'and')),\n",
       " (21, (u'for', u'some', u'time')),\n",
       " (21, (u'at', u'the', u'same')),\n",
       " (21, (u'am', u'sure', u'I'))]"
      ]
     },
     "execution_count": 173,
     "metadata": {},
     "output_type": "execute_result"
    }
   ],
   "source": [
    "sense = [word for word in text2 if word.isalpha()]\n",
    "ngrammer(sense, 3, threshold = 20)"
   ]
  },
  {
   "cell_type": "code",
   "execution_count": 148,
   "metadata": {
    "collapsed": false
   },
   "outputs": [
    {
     "data": {
      "text/plain": [
       "[(4, ('the', 'Prime', 'Minister')),\n",
       " (4, ('The', 'Prime', 'Minister')),\n",
       " (3, ('the', 'United', 'States')),\n",
       " (3, ('can', 'not', 'blame')),\n",
       " (3, ('a', 'result', 'of')),\n",
       " (3, ('You', 'can', 'not')),\n",
       " (3, ('.', 'The', 'Prime'))]"
      ]
     },
     "execution_count": 148,
     "metadata": {},
     "output_type": "execute_result"
    }
   ],
   "source": [
    "ngrammer(tokens, 3, threshold = 2)"
   ]
  },
  {
   "cell_type": "markdown",
   "metadata": {
    "collapsed": true
   },
   "source": [
    "###Here is a slightly easier way to get those ngrams\n",
    "\n",
    "* No functions here, for simplicity\n"
   ]
  },
  {
   "cell_type": "code",
   "execution_count": 1,
   "metadata": {
    "collapsed": false
   },
   "outputs": [
    {
     "ename": "NameError",
     "evalue": "name 'tokens' is not defined",
     "output_type": "error",
     "traceback": [
      "\u001b[0;31m---------------------------------------------------------------------------\u001b[0m",
      "\u001b[0;31mNameError\u001b[0m                                 Traceback (most recent call last)",
      "\u001b[0;32m<ipython-input-1-21fb47cd7905>\u001b[0m in \u001b[0;36m<module>\u001b[0;34m()\u001b[0m\n\u001b[1;32m      4\u001b[0m \u001b[0mthreshold\u001b[0m \u001b[0;34m=\u001b[0m \u001b[0;36m2\u001b[0m\u001b[0;34m\u001b[0m\u001b[0m\n\u001b[1;32m      5\u001b[0m \u001b[0mng\u001b[0m \u001b[0;34m=\u001b[0m \u001b[0;36m3\u001b[0m\u001b[0;34m\u001b[0m\u001b[0m\n\u001b[0;32m----> 6\u001b[0;31m \u001b[0mtesttext\u001b[0m \u001b[0;34m=\u001b[0m \u001b[0mtokens\u001b[0m\u001b[0;34m\u001b[0m\u001b[0m\n\u001b[0m\u001b[1;32m      7\u001b[0m \u001b[0;34m\u001b[0m\u001b[0m\n\u001b[1;32m      8\u001b[0m \u001b[0;31m#Create out ngram, convert to a list,\u001b[0m\u001b[0;34m\u001b[0m\u001b[0;34m\u001b[0m\u001b[0m\n",
      "\u001b[0;31mNameError\u001b[0m: name 'tokens' is not defined"
     ]
    }
   ],
   "source": [
    "from collections import defaultdict\n",
    "import operator\n",
    "from collections import Counter\n",
    "threshold = 2\n",
    "ng = 3\n",
    "testtext = tokens\n",
    "\n",
    "#Create out ngram, convert to a list, \n",
    "#run a counter to count the number of entries for each unique list element\n",
    "raw_grams = ngrams(testtext, ng)\n",
    "listgrams = list(raw_grams)\n",
    "counts = Counter(listgrams)\n",
    "print(len(listgrams), len(counts))\n",
    "\n",
    "#Default dictionaries, among other things allow, us to increment item values easily\n",
    "D = defaultdict(int)\n",
    "for k,v in counts.items():\n",
    "    if v > threshold:\n",
    "        D[k] += v\n",
    "#Here is a way to sort a dictionary, based on the value (key=operator.itemgetter(1))\n",
    "sorted_x = sorted(D.items(), key=operator.itemgetter(1), reverse=True)"
   ]
  },
  {
   "cell_type": "code",
   "execution_count": null,
   "metadata": {
    "collapsed": true
   },
   "outputs": [],
   "source": []
  }
 ],
 "metadata": {
  "kernelspec": {
   "display_name": "Python 2",
   "language": "python",
   "name": "python2"
  },
  "language_info": {
   "codemirror_mode": {
    "name": "ipython",
    "version": 2
   },
   "file_extension": ".py",
   "mimetype": "text/x-python",
   "name": "python",
   "nbconvert_exporter": "python",
   "pygments_lexer": "ipython2",
   "version": "2.7.10"
  }
 },
 "nbformat": 4,
 "nbformat_minor": 0
}
