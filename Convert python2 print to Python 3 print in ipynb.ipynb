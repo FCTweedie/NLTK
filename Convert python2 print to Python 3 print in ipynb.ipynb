{
 "cells": [
  {
   "cell_type": "code",
   "execution_count": 17,
   "metadata": {
    "collapsed": false
   },
   "outputs": [],
   "source": [
    "import json\n",
    "from glob import glob\n",
    "\n",
    "filelist = glob('nltk*-updated.ipynb')\n",
    "\n",
    "num = 2\n",
    "\n",
    "with open(filelist[num],'r') as note_book:\n",
    "    note_book = json.load(note_book)    "
   ]
  },
  {
   "cell_type": "code",
   "execution_count": 18,
   "metadata": {
    "collapsed": false
   },
   "outputs": [
    {
     "data": {
      "text/plain": [
       "['nltk-session-1-updated.ipynb',\n",
       " 'nltk-session-2-updated.ipynb',\n",
       " 'nltk-session-3-updated.ipynb']"
      ]
     },
     "execution_count": 18,
     "metadata": {},
     "output_type": "execute_result"
    }
   ],
   "source": [
    "filelist"
   ]
  },
  {
   "cell_type": "code",
   "execution_count": 19,
   "metadata": {
    "collapsed": false
   },
   "outputs": [
    {
     "name": "stdout",
     "output_type": "stream",
     "text": [
      "print cocoa[:100]\n",
      "print(cocoa[:100])\n",
      "print title\n",
      "\n",
      "print(title)\n",
      "print raw[:200]\n",
      "print(raw[:200])\n",
      "print 'created file', title\n",
      "print('created file', title)\n",
      "print type(raw)\n",
      "\n",
      "print(type(raw))\n",
      "print raw[100:200]\n",
      "print(raw[100:200])\n",
      "print type(soup)\n",
      "print(type(soup))\n",
      "print texts[:10]\n",
      "print(texts[:10])\n",
      "print type(joined_texts)\n",
      "\n",
      "print(type(joined_texts))\n",
      "print joined_texts[:100]\n",
      "print(joined_texts[:100])\n"
     ]
    }
   ],
   "source": [
    "first = 0\n",
    "for cell in note_book['cells']:\n",
    "    if cell['cell_type'] == 'code' and first == 0:\n",
    "        code = cell['source']\n",
    "        newcode = ['from __future__ import print_function, division\\r\\n']\n",
    "        first = 1\n",
    "        for list_item in code:\n",
    "            \n",
    "            if 'print' in list_item and 'print_function' not in list_item:\n",
    "                print(list_item)\n",
    "                new = list_item.replace('print ','print(',1)\n",
    "                #print(new)\n",
    "                newcode.append(new.rstrip()+')\\r\\n')\n",
    "                print(new.rstrip()+')')\n",
    "            else:\n",
    "                newcode.append(list_item)\n",
    "        cell['source'] = newcode\n",
    "    elif cell['cell_type'] == 'code' and first != 0:\n",
    "        code = cell['source']\n",
    "        newcode = []\n",
    "        \n",
    "        \n",
    "        for list_item in code:\n",
    "            \n",
    "            if 'print' in list_item and 'print_function' not in list_item:\n",
    "                print(list_item)\n",
    "                new = list_item.replace('print ','print(',1)\n",
    "                #print(new)\n",
    "                newcode.append(new.rstrip()+')')\n",
    "                print(new.rstrip()+')')\n",
    "            else:\n",
    "                newcode.append(list_item)\n",
    "        cell['source'] = newcode"
   ]
  },
  {
   "cell_type": "code",
   "execution_count": 20,
   "metadata": {
    "collapsed": false
   },
   "outputs": [],
   "source": [
    "with open(filelist[num].replace('updated','updated-Python3'),'w') as new_file:\n",
    "    json.dump(note_book,new_file)"
   ]
  },
  {
   "cell_type": "code",
   "execution_count": 16,
   "metadata": {
    "collapsed": false
   },
   "outputs": [
    {
     "name": "stdout",
     "output_type": "stream",
     "text": [
      "Convert python2 print to Python 3 print in ipynb.ipynb\r\n",
      "SpeedDating.ipynb\r\n",
      "nltk-session-1-updated-Python3.ipynb\r\n",
      "nltk-session-1-updated.ipynb\r\n",
      "nltk-session-2-updated-Python3.ipynb\r\n",
      "nltk-session-2-updated.ipynb\r\n",
      "nltk-session-3-updated.ipynb\r\n"
     ]
    }
   ],
   "source": [
    "ls"
   ]
  },
  {
   "cell_type": "code",
   "execution_count": null,
   "metadata": {
    "collapsed": true
   },
   "outputs": [],
   "source": []
  }
 ],
 "metadata": {
  "kernelspec": {
   "display_name": "Python 3",
   "language": "python",
   "name": "python3"
  },
  "language_info": {
   "codemirror_mode": {
    "name": "ipython",
    "version": 3
   },
   "file_extension": ".py",
   "mimetype": "text/x-python",
   "name": "python",
   "nbconvert_exporter": "python",
   "pygments_lexer": "ipython3",
   "version": "3.4.3"
  }
 },
 "nbformat": 4,
 "nbformat_minor": 0
}
